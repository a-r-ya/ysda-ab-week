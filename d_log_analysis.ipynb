{
 "cells": [
  {
   "cell_type": "code",
   "execution_count": 220,
   "id": "f6dabea1-6454-427c-9e83-cd52076702a4",
   "metadata": {},
   "outputs": [
    {
     "data": {
      "text/html": [
       "<style>table {align:left;display:block} </style>"
      ],
      "text/plain": [
       "<IPython.core.display.HTML object>"
      ]
     },
     "execution_count": 220,
     "metadata": {},
     "output_type": "execute_result"
    }
   ],
   "source": [
    "from IPython.core.display import HTML\n",
    "table_css = 'table {align:left;display:block} '\n",
    "HTML('<style>{}</style>'.format(table_css))"
   ]
  },
  {
   "cell_type": "markdown",
   "id": "b4097b03-84bf-4712-ab4a-4bfc51ddc56f",
   "metadata": {},
   "source": [
    "### D. Анализ логов\n",
    "\n",
    "|   |   |\n",
    "|:--|:--|\n",
    "| Ограничение времени |\t1 секунда |\n",
    "| Ограничение памяти |\t64 Мб |\n",
    "| Ввод |\tстандартный ввод или input.txt |\n",
    "| Вывод\t| стандартный вывод или output.txt |\n",
    "\n",
    "Поисковая выдача — это упорядоченный список документов, показанных поисковой системой по текстовому запросу. Документы размечаются по релевантности и по максимальному количеству денег, которое документ может принести.\n",
    "\n",
    "Вставьте минимальное количество документов на выдачу, чтобы максимизировать деньги и не ухудшить качество. Размер выдачи по запросу тоже не должен измениться: новые документы вклиниваются в выдачу, а низ удаляется. Порядок изначальных документов нельзя менять. Выведите максимальную суммарную выручку по всем запросам.\n",
    "\n",
    "Ответ округлите до сотых.\n",
    "\n",
    "#### Формат ввода\n",
    "\n",
    "Вам дан текстовый файл со следующими данными:\n",
    "1. serpset — список размеченных поисковых выдач.\n",
    "2. new_documents — размеченные документы.\n",
    "\n",
    "#### Формат вывода\n",
    "\n",
    "Суммарная выручка по всем запросам.\n",
    "\n",
    "#### Пример\n",
    "\n",
    "##### Ввод\n",
    "\n",
    "```json \n",
    "{\n",
    "\t\"serpset\": [\n",
    "\t\t{\n",
    "\t\t\t\"query\": \"okna\",\n",
    "\t\t \t\"results\": [\n",
    "\t\t\t\t{\"position\": 0, \"url\": \"okna-msk.ru\", \"relevance\": 0.95, \"cost\": 77}, \n",
    "\t\t\t\t{\"position\": 1, \"url\": \"okna-pvh.ru\", \"relevance\": 0.95, \"cost\": 70}, \n",
    "\t\t\t\t{\"position\": 2, \"url\": \"ne-okna.ru\", \"relevance\": 0.3, \"cost\": 100}, \n",
    "\t\t\t\t{\"position\": 3, \"url\": \"best-okna.ru\", \"relevance\": 0.1, \"cost\": 0}\n",
    "    \t\t]\n",
    "        }, \n",
    "\t\t{\n",
    "\t\t\t\"query\": \"lego\",\n",
    "\t\t\t\"results\": [\n",
    "\t\t\t\t{\"position\": 0, \"url\": \"lego.ru\", \"relevance\": 0.95, \"cost\": 15}, \n",
    "\t\t\t\t{\"position\": 1, \"url\": \"lego-mir.ru\", \"relevance\": 0.7, \"cost\": 30}, \n",
    "\t\t\t\t{\"position\": 2, \"url\": \"disney.ru\", \"relevance\": 0.3, \"cost\": 100}\n",
    "            ]\n",
    "\t\t}\n",
    "    ], \n",
    "\t\"new_documents\": [\n",
    "\t\t{\"query\": \"weather\", \"url\": \"yandex.ru/pogoda\", \"relevance\": 1, \"cost\": 0}, \n",
    "\t\t{\"query\": \"okna\", \"url\": \"yandex.ru/okna\", \"relevance\": 1, \"cost\": 100}, \n",
    "\t\t{\"query\": \"lego\", \"url\": \"yandex.ru/lego\", \"relevance\": 0.4, \"cost\": 10}\n",
    "\t]\n",
    "}\n",
    "```\n",
    "\n",
    "##### Вывод\n",
    "\n",
    "```python\n",
    "338.81\n",
    "```\n",
    "\n",
    "#### Примечания\n",
    "\n",
    "Качество мерим метрикой $RelDCG = \\sum_{i}\\frac{relevance_{i}}{i}$.\n",
    "\n",
    "Деньги мерим метрикой $Revenue = \\sum_{i}\\frac{cost_{i}}{\\sqrt{i}}$."
   ]
  },
  {
   "cell_type": "code",
   "execution_count": 217,
   "id": "f9844dcf-d81f-4331-b0b3-cd2f43b3271c",
   "metadata": {},
   "outputs": [
    {
     "name": "stdout",
     "output_type": "stream",
     "text": [
      "338.81\n"
     ]
    }
   ],
   "source": [
    "import json\n",
    "import math\n",
    "\n",
    "with open('input.txt', 'r') as file:\n",
    "    data = json.load(file)\n",
    "\n",
    "def get_relevance(results_list):\n",
    "    relevance = 0\n",
    "    for idx in range(0, len(results_list)):\n",
    "        relevance += (results_list[idx]['relevance'] / (idx+1))\n",
    "    return relevance\n",
    "\n",
    "def get_revenue(results_list):\n",
    "    revenue = 0\n",
    "    for idx in range(0, len(results_list)):\n",
    "        revenue += (results_list[idx]['cost'] / math.sqrt(idx+1))\n",
    "    return revenue\n",
    "\n",
    "all_revenues = []\n",
    "for doc in data['new_documents']:\n",
    "    for serp in data['serpset']:\n",
    "        if doc['query'] == serp['query']:\n",
    "            original_results = serp['results']\n",
    "            original_relevance = get_relevance(original_results)\n",
    "            original_revenue = get_revenue(original_results)\n",
    "            best_revenue = original_revenue\n",
    "            for idx in range(0, len(serp['results'])):\n",
    "                modified_results = serp['results'].copy()\n",
    "                modified_results.insert(idx, doc)\n",
    "                modified_results.pop()\n",
    "                modified_relevance = get_relevance(modified_results)\n",
    "                modified_revenue = get_revenue(modified_results)\n",
    "                if modified_relevance >= original_relevance:\n",
    "                    if modified_revenue > best_revenue:\n",
    "                        best_revenue = modified_revenue\n",
    "            all_revenues.append(best_revenue)\n",
    "\n",
    "print(f'{sum(all_revenues):.2f}')"
   ]
  }
 ],
 "metadata": {
  "kernelspec": {
   "display_name": "Python 3 (ipykernel)",
   "language": "python",
   "name": "python3"
  },
  "language_info": {
   "codemirror_mode": {
    "name": "ipython",
    "version": 3
   },
   "file_extension": ".py",
   "mimetype": "text/x-python",
   "name": "python",
   "nbconvert_exporter": "python",
   "pygments_lexer": "ipython3",
   "version": "3.12.0"
  }
 },
 "nbformat": 4,
 "nbformat_minor": 5
}
